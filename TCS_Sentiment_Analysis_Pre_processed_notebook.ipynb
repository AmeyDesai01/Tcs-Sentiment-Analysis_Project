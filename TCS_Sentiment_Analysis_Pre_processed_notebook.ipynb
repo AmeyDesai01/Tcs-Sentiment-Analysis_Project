{
  "cells": [
    {
      "cell_type": "markdown",
      "source": [
        "###Tcs Ion RIO 125 - Automate sentiment analysis of textual comments and feedback Project by AMEY DESAI\n"
      ],
      "metadata": {
        "id": "Q1xNvGR6qfgN"
      }
    },
    {
      "cell_type": "markdown",
      "source": [
        "**Importing required Libraries.**"
      ],
      "metadata": {
        "id": "BehYWt3urJ7O"
      }
    },
    {
      "cell_type": "code",
      "execution_count": null,
      "metadata": {
        "id": "2ew7HTbPpCJH"
      },
      "outputs": [],
      "source": [
        "import tensorflow as tf\n",
        "from tensorflow import keras\n",
        "import tensorflow_datasets as tfds\n",
        "tfds.disable_progress_bar()\n",
        "\n",
        "import numpy as np"
      ]
    },
    {
      "cell_type": "markdown",
      "source": [
        "**Loading the dataset**"
      ],
      "metadata": {
        "id": "OfLynFDztmLt"
      }
    },
    {
      "cell_type": "markdown",
      "source": [
        "The IMDB movie reviews dataset comes packaged in `tfds`. It has already been preprocessed so that the reviews (sequences of words) have been converted to sequences of integers, where each integer represents a specific word in a dictionary. Let's start the project!"
      ],
      "metadata": {
        "id": "E2jpumXytzQK"
      }
    },
    {
      "cell_type": "code",
      "execution_count": null,
      "metadata": {
        "colab": {
          "base_uri": "https://localhost:8080/"
        },
        "id": "wbIQ2wSeXSme",
        "outputId": "0a3ab4ff-8186-4e23-e2e3-296b38489042"
      },
      "outputs": [
        {
          "output_type": "stream",
          "name": "stderr",
          "text": [
            "WARNING:absl:TFDS datasets with text encoding are deprecated and will be removed in a future version. Instead, you should use the plain text version and tokenize the text using `tensorflow_text` (See: https://www.tensorflow.org/tutorials/tensorflow_text/intro#tfdata_example)\n"
          ]
        },
        {
          "output_type": "stream",
          "name": "stdout",
          "text": [
            "Downloading and preparing dataset 80.23 MiB (download: 80.23 MiB, generated: Unknown size, total: 80.23 MiB) to /root/tensorflow_datasets/imdb_reviews/subwords8k/1.0.0...\n"
          ]
        },
        {
          "output_type": "stream",
          "name": "stderr",
          "text": [
            "WARNING:absl:Dataset is using deprecated text encoder API which will be removed soon. Please use the plain_text version of the dataset and migrate to `tensorflow_text`.\n"
          ]
        },
        {
          "output_type": "stream",
          "name": "stdout",
          "text": [
            "Dataset imdb_reviews downloaded and prepared to /root/tensorflow_datasets/imdb_reviews/subwords8k/1.0.0. Subsequent calls will reuse this data.\n"
          ]
        }
      ],
      "source": [
        "(train_data, test_data), info = tfds.load(\n",
        "    # Use the version pre-encoded with an ~8k vocabulary.\n",
        "    'imdb_reviews/subwords8k', \n",
        "    # Return the train/test datasets as a tuple.\n",
        "    split = (tfds.Split.TRAIN, tfds.Split.TEST),\n",
        "    # Return (example, label) pairs from the dataset (instead of a dictionary).\n",
        "    as_supervised = True,\n",
        "    # Also return the `info` structure. \n",
        "    with_info = True)"
      ]
    },
    {
      "cell_type": "code",
      "execution_count": null,
      "metadata": {
        "id": "EplYp5pNnW1S"
      },
      "outputs": [],
      "source": [
        "encoder = info.features['text'].encoder"
      ]
    },
    {
      "cell_type": "code",
      "execution_count": null,
      "metadata": {
        "colab": {
          "base_uri": "https://localhost:8080/"
        },
        "id": "e7ACuHM5hFp3",
        "outputId": "beddbbf7-28c0-40dd-9443-c1e40065f2ef"
      },
      "outputs": [
        {
          "output_type": "stream",
          "name": "stdout",
          "text": [
            "Vocabulary size: 8185\n"
          ]
        }
      ],
      "source": [
        "print ('Vocabulary size: {}'.format(encoder.vocab_size))"
      ]
    },
    {
      "cell_type": "code",
      "execution_count": null,
      "metadata": {
        "colab": {
          "base_uri": "https://localhost:8080/"
        },
        "id": "cxnWQJijdGA1",
        "outputId": "cd4de69a-7338-4608-c44f-806314f71cc1"
      },
      "outputs": [
        {
          "output_type": "stream",
          "name": "stdout",
          "text": [
            "Encoded text: [  62   18   41  604  927   65    3  644 7968   21]\n",
            "Label: 0\n"
          ]
        }
      ],
      "source": [
        "for train_example, train_label in train_data.take(1):\n",
        "  print('Encoded text:', train_example[:10].numpy())\n",
        "  print('Label:', train_label.numpy())"
      ]
    },
    {
      "cell_type": "code",
      "execution_count": null,
      "metadata": {
        "id": "SDRI_s_tX1Hk"
      },
      "outputs": [],
      "source": [
        "BUFFER_SIZE = 1000\n",
        "\n",
        "train_batches = (\n",
        "    train_data\n",
        "    .shuffle(BUFFER_SIZE)\n",
        "    .padded_batch(32))\n",
        "\n",
        "test_batches = (\n",
        "    test_data\n",
        "    .padded_batch(32))"
      ]
    },
    {
      "cell_type": "markdown",
      "source": [
        "**Let's Build the Model**"
      ],
      "metadata": {
        "id": "yN7qKINFrsyf"
      }
    },
    {
      "cell_type": "code",
      "execution_count": null,
      "metadata": {
        "colab": {
          "base_uri": "https://localhost:8080/"
        },
        "id": "xpKOoWgu-llD",
        "outputId": "edf3c143-5186-4b21-8484-d76589d3f617"
      },
      "outputs": [
        {
          "output_type": "stream",
          "name": "stdout",
          "text": [
            "Model: \"sequential\"\n",
            "_________________________________________________________________\n",
            " Layer (type)                Output Shape              Param #   \n",
            "=================================================================\n",
            " embedding (Embedding)       (None, None, 16)          130960    \n",
            "                                                                 \n",
            " global_average_pooling1d (G  (None, 16)               0         \n",
            " lobalAveragePooling1D)                                          \n",
            "                                                                 \n",
            " dense (Dense)               (None, 1)                 17        \n",
            "                                                                 \n",
            "=================================================================\n",
            "Total params: 130,977\n",
            "Trainable params: 130,977\n",
            "Non-trainable params: 0\n",
            "_________________________________________________________________\n"
          ]
        }
      ],
      "source": [
        "model = keras.Sequential([\n",
        "  keras.layers.Embedding(encoder.vocab_size, 16),\n",
        "  keras.layers.GlobalAveragePooling1D(),\n",
        "  keras.layers.Dense(1)])\n",
        "\n",
        "model.summary()"
      ]
    },
    {
      "cell_type": "code",
      "execution_count": null,
      "metadata": {
        "id": "Mr0GP-cQ-llN"
      },
      "outputs": [],
      "source": [
        "model.compile(optimizer='adam',\n",
        "              loss=tf.losses.BinaryCrossentropy(from_logits=True),\n",
        "              metrics=['accuracy'])"
      ]
    },
    {
      "cell_type": "code",
      "execution_count": null,
      "metadata": {
        "colab": {
          "base_uri": "https://localhost:8080/"
        },
        "id": "tXSGrjWZ-llW",
        "outputId": "1d458f2d-127f-40bc-8d7a-cc0932e18687"
      },
      "outputs": [
        {
          "output_type": "stream",
          "name": "stdout",
          "text": [
            "Epoch 1/10\n",
            "782/782 [==============================] - 9s 9ms/step - loss: 0.6818 - accuracy: 0.5007 - val_loss: 0.6636 - val_accuracy: 0.5052\n",
            "Epoch 2/10\n",
            "782/782 [==============================] - 7s 9ms/step - loss: 0.6191 - accuracy: 0.5561 - val_loss: 0.5928 - val_accuracy: 0.5792\n",
            "Epoch 3/10\n",
            "782/782 [==============================] - 7s 8ms/step - loss: 0.5367 - accuracy: 0.6705 - val_loss: 0.5289 - val_accuracy: 0.7094\n",
            "Epoch 4/10\n",
            "782/782 [==============================] - 6s 8ms/step - loss: 0.4709 - accuracy: 0.7546 - val_loss: 0.4821 - val_accuracy: 0.8125\n",
            "Epoch 5/10\n",
            "782/782 [==============================] - 7s 9ms/step - loss: 0.4196 - accuracy: 0.8049 - val_loss: 0.4431 - val_accuracy: 0.7792\n",
            "Epoch 6/10\n",
            "782/782 [==============================] - 7s 9ms/step - loss: 0.3776 - accuracy: 0.8362 - val_loss: 0.4159 - val_accuracy: 0.8021\n",
            "Epoch 7/10\n",
            "782/782 [==============================] - 6s 8ms/step - loss: 0.3458 - accuracy: 0.8548 - val_loss: 0.3962 - val_accuracy: 0.8302\n",
            "Epoch 8/10\n",
            "782/782 [==============================] - 7s 8ms/step - loss: 0.3195 - accuracy: 0.8687 - val_loss: 0.3852 - val_accuracy: 0.8177\n",
            "Epoch 9/10\n",
            "782/782 [==============================] - 7s 9ms/step - loss: 0.3019 - accuracy: 0.8781 - val_loss: 0.3695 - val_accuracy: 0.8500\n",
            "Epoch 10/10\n",
            "782/782 [==============================] - 6s 8ms/step - loss: 0.2836 - accuracy: 0.8862 - val_loss: 0.3634 - val_accuracy: 0.8448\n"
          ]
        }
      ],
      "source": [
        "history = model.fit(train_batches,\n",
        "                    epochs = 10,\n",
        "                    validation_data = test_batches,\n",
        "                    validation_steps = 30)"
      ]
    },
    {
      "cell_type": "markdown",
      "source": [
        "**Test For Accuracy**"
      ],
      "metadata": {
        "id": "jMQcQ0F7sek6"
      }
    },
    {
      "cell_type": "code",
      "execution_count": null,
      "metadata": {
        "colab": {
          "base_uri": "https://localhost:8080/"
        },
        "id": "zOMKywn4zReN",
        "outputId": "38c0658d-a9c1-4942-dc58-103429611c37"
      },
      "outputs": [
        {
          "output_type": "stream",
          "name": "stdout",
          "text": [
            "782/782 [==============================] - 3s 4ms/step - loss: 0.3322 - accuracy: 0.8499\n",
            "Loss:  0.33223995566368103\n",
            "Accuracy:  0.8499199748039246\n"
          ]
        }
      ],
      "source": [
        "loss, accuracy = model.evaluate(test_batches)\n",
        "\n",
        "print(\"Loss: \", loss)\n",
        "print(\"Accuracy: \", accuracy)"
      ]
    },
    {
      "cell_type": "markdown",
      "source": [
        "**Prediction Functions**"
      ],
      "metadata": {
        "id": "5XDkye12sq7W"
      }
    },
    {
      "cell_type": "code",
      "execution_count": null,
      "metadata": {
        "id": "s3IIcEP6RmlT"
      },
      "outputs": [],
      "source": [
        "def pad_to_size(vec, size):\n",
        "  zeros = [0] * (size - len(vec))\n",
        "  vec.extend(zeros)\n",
        "  return vec"
      ]
    },
    {
      "cell_type": "code",
      "execution_count": null,
      "metadata": {
        "id": "Swp5zUV5Rmle"
      },
      "outputs": [],
      "source": [
        "def sample_predict(sample_pred_text, pad):\n",
        "  encoded_sample_pred_text = encoder.encode(sample_pred_text)\n",
        "\n",
        "  if pad:\n",
        "    encoded_sample_pred_text = pad_to_size(encoded_sample_pred_text, 64)\n",
        "  encoded_sample_pred_text = tf.cast(encoded_sample_pred_text, tf.float32)\n",
        "  predictions = model.predict(tf.expand_dims(encoded_sample_pred_text, 0))\n",
        "  print(\"Prediction Score: \", predictions)\n",
        "  output = \"\"\n",
        "  if predictions[0][0] >= 0.5: output = \"POSITIVE\"\n",
        "  elif predictions[0][0] <= -1: output = \"NEGATIVE\"\n",
        "  else: output = \"NEUTRAL\"\n",
        "\n",
        "  return output"
      ]
    },
    {
      "cell_type": "markdown",
      "source": [
        "**Prediction with Sample Sentiments of 3 idiots movie from bollywood**"
      ],
      "metadata": {
        "id": "jT2cO4dYsxzr"
      }
    },
    {
      "cell_type": "code",
      "execution_count": null,
      "metadata": {
        "colab": {
          "base_uri": "https://localhost:8080/"
        },
        "id": "JJWRKzG1Rmlk",
        "outputId": "8da7afa7-97ea-4905-d6b1-93d216eebbfe"
      },
      "outputs": [
        {
          "output_type": "stream",
          "name": "stdout",
          "text": [
            "1/1 [==============================] - 0s 94ms/step\n",
            "Prediction Score:  [[-19.715187]]\n",
            "NEGATIVE\n"
          ]
        }
      ],
      "source": [
        "sample_pred_text = ('The movie was not good. The animation and the graphics were terrible. I would not recommend this movie.')\n",
        "predictions = sample_predict(sample_pred_text, pad = False)\n",
        "print(predictions)"
      ]
    },
    {
      "cell_type": "code",
      "execution_count": null,
      "metadata": {
        "colab": {
          "base_uri": "https://localhost:8080/"
        },
        "id": "5oEEAlQGRmlp",
        "outputId": "9565891a-b930-4f38-812d-35ad7c293969"
      },
      "outputs": [
        {
          "output_type": "stream",
          "name": "stdout",
          "text": [
            "1/1 [==============================] - 0s 54ms/step\n",
            "Prediction Score:  [[5.975114]]\n",
            "POSITIVE\n"
          ]
        }
      ],
      "source": [
        "sample_pred_text = ('The movie was cool. The animation and the graphics were out of this world. I would recommend this movie.')\n",
        "predictions = sample_predict(sample_pred_text, pad = False)\n",
        "print(predictions)"
      ]
    },
    {
      "cell_type": "code",
      "execution_count": null,
      "metadata": {
        "colab": {
          "base_uri": "https://localhost:8080/"
        },
        "id": "OnI8ANXvRmlu",
        "outputId": "7f23e136-8f7c-4ed7-ca1e-38e021d98852"
      },
      "outputs": [
        {
          "output_type": "stream",
          "name": "stdout",
          "text": [
            "1/1 [==============================] - 0s 25ms/step\n",
            "Prediction Score:  [[15.298365]]\n",
            "POSITIVE\n"
          ]
        }
      ],
      "source": [
        "sample_pred_text = ('This movie is awesome. The acting was incredicable. Highly recommend')\n",
        "predictions = sample_predict(sample_pred_text, pad = False)\n",
        "print(predictions)"
      ]
    },
    {
      "cell_type": "code",
      "execution_count": null,
      "metadata": {
        "colab": {
          "base_uri": "https://localhost:8080/"
        },
        "id": "mbDeNUKiRmly",
        "outputId": "762e5fd8-039d-4042-ddce-964633db7a2f"
      },
      "outputs": [
        {
          "output_type": "stream",
          "name": "stdout",
          "text": [
            "1/1 [==============================] - 0s 24ms/step\n",
            "Prediction Score:  [[-20.359869]]\n",
            "NEGATIVE\n"
          ]
        }
      ],
      "source": [
        "sample_pred_text = ('This movie was so so. The acting was medicore. Kind of recommend')\n",
        "predictions = sample_predict(sample_pred_text, pad = False)\n",
        "print(predictions)"
      ]
    },
    {
      "cell_type": "code",
      "execution_count": null,
      "metadata": {
        "colab": {
          "base_uri": "https://localhost:8080/"
        },
        "id": "0b69ZKbFRml6",
        "outputId": "082cea54-6966-4c69-c573-075e9c9ba944"
      },
      "outputs": [
        {
          "output_type": "stream",
          "name": "stdout",
          "text": [
            "1/1 [==============================] - 0s 24ms/step\n",
            "Prediction Score:  [[11.191682]]\n",
            "POSITIVE\n"
          ]
        }
      ],
      "source": [
        "# 3-IDIOTS 5 STAR COMMENT\n",
        "\n",
        "sample_pred_text = (\"\"\"Three Idiots was an amazing film that really impressed me of how good Bollywood films can be. My emotions throughout the film was like a roller coaster, going from sad to jubilant in a matter of seconds. \n",
        "I mainly recommend this film to anyone who is unsure of watching a Bollywood film, \n",
        "yet I also recommend this film to every other person in the entirety of the earth.\"\"\")\n",
        "\n",
        "predictions = sample_predict(sample_pred_text, pad = False)\n",
        "print(predictions)"
      ]
    },
    {
      "cell_type": "code",
      "execution_count": null,
      "metadata": {
        "colab": {
          "base_uri": "https://localhost:8080/"
        },
        "id": "dUA6c1OpRml_",
        "outputId": "e6b34201-9a13-426e-9f2e-c558e0ab11d3"
      },
      "outputs": [
        {
          "output_type": "stream",
          "name": "stdout",
          "text": [
            "1/1 [==============================] - 0s 25ms/step\n",
            "Prediction Score:  [[-5.3831673]]\n",
            "NEGATIVE\n"
          ]
        }
      ],
      "source": [
        "# 3-IDIOTS 3 STAR COMMENT\n",
        "\n",
        "sample_pred_text = (\"\"\"Some of the acting is good, the main song is catchy and colours look nice. \n",
        "But I do not see any other positives. It can probably deserve a 4 or 5, but I will just give it a 3 \n",
        "because I really don't understand how can this movie be so high in the top 250.\n",
        "I think the top 250 should give some weight to the credibility of the voters.\"\"\")\n",
        "\n",
        "predictions = sample_predict(sample_pred_text, pad = False)\n",
        "print(predictions)"
      ]
    },
    {
      "cell_type": "code",
      "execution_count": null,
      "metadata": {
        "colab": {
          "base_uri": "https://localhost:8080/"
        },
        "id": "FtkvFriRRmmG",
        "outputId": "c2f7877d-67f6-400a-baee-24427d06cba5"
      },
      "outputs": [
        {
          "output_type": "stream",
          "name": "stdout",
          "text": [
            "1/1 [==============================] - 0s 23ms/step\n",
            "Prediction Score:  [[-23.698772]]\n",
            "NEGATIVE\n"
          ]
        }
      ],
      "source": [
        "# 3-IDIOTS 1 STAR COMMENT\n",
        "\n",
        "sample_pred_text = (\"\"\"I feel like a fool wasting three hours on what practically is the Indian equivalent of the Three Stooges. \n",
        "With some context, this was the first Bollywood film I had seen, and it doesn't make me want to rush back and view more. \n",
        "The jokes are pretty unfunny, almost inline with unintelligent slapstick comedy and weird foreign comedy. \n",
        "Nothing in this film made me want to continue viewing; poor acting, a poor script\n",
        "and horrible cinematography are among the worst I've ever seen.\"\"\")\n",
        "\n",
        "predictions = sample_predict(sample_pred_text, pad = False)\n",
        "print(predictions)"
      ]
    },
    {
      "cell_type": "code",
      "execution_count": null,
      "metadata": {
        "colab": {
          "base_uri": "https://localhost:8080/"
        },
        "id": "32xvcogTRmmL",
        "outputId": "c2b1e4d2-ba37-4b95-c3a3-f8c116c87483"
      },
      "outputs": [
        {
          "output_type": "stream",
          "name": "stdout",
          "text": [
            "1/1 [==============================] - 0s 22ms/step\n",
            "Prediction Score:  [[3.199737]]\n",
            "POSITIVE\n"
          ]
        }
      ],
      "source": [
        "sample_pred_text = (\"\"\"3 Idiots is actually a movie for above 16 years of age and\n",
        " not at all suitable to be watched along with young kids. \n",
        " Apart from good theme and underline message, nothing in the movie is actually suitable for viewing by children under 16 years of age. \n",
        " May be it is due to commercial side of the movie in which producers have to gather the attention of people\n",
        "and make it more appealing to the grown up viewers.\"\"\")\n",
        "\n",
        "predictions = sample_predict(sample_pred_text, pad = False)\n",
        "print(predictions)"
      ]
    },
    {
      "cell_type": "code",
      "execution_count": null,
      "metadata": {
        "colab": {
          "base_uri": "https://localhost:8080/"
        },
        "id": "3Wol2gYfRmmQ",
        "outputId": "5cdecfc5-6b9e-4706-b449-50ed6b019aa6"
      },
      "outputs": [
        {
          "output_type": "stream",
          "name": "stdout",
          "text": [
            "1/1 [==============================] - 0s 24ms/step\n",
            "Prediction Score:  [[6.3143334]]\n",
            "POSITIVE\n"
          ]
        }
      ],
      "source": [
        "sample_pred_text = (\"\"\"Rajkumar Hirani and Abhijat Joshi, who wrote the story, \n",
        "infuse a great amount of life into the film. ‘3 Idiots’ is the kind of film which takes you on a roller coaster ride right from the word go. \n",
        "It also tries to address the root of the problem which is plaguing the Indian Education System. \n",
        "The method of teaching has turned colleges into pressure cookers and the students are made to compete rather than excel. \n",
        "What’s really good about the film is it has the right dose of funny moments which are brilliantly enacted by all its characters. \n",
        "Aamir Khan brings the much needed star power to the film.\"\"\")\n",
        "\n",
        "predictions = sample_predict(sample_pred_text, pad = False)\n",
        "print(predictions)"
      ]
    },
    {
      "cell_type": "code",
      "execution_count": null,
      "metadata": {
        "colab": {
          "base_uri": "https://localhost:8080/"
        },
        "id": "mW9JBqm8TCO1",
        "outputId": "15e82ae4-99cb-4e32-fe7b-61488c8f0f2d"
      },
      "outputs": [
        {
          "output_type": "execute_result",
          "data": {
            "text/plain": [
              "dict_keys(['loss', 'accuracy', 'val_loss', 'val_accuracy'])"
            ]
          },
          "metadata": {},
          "execution_count": 22
        }
      ],
      "source": [
        "history_dict = history.history\n",
        "history_dict.keys()"
      ]
    },
    {
      "cell_type": "markdown",
      "source": [
        "**Plotting Accuracy & Loss Function Graphs**"
      ],
      "metadata": {
        "id": "rp9tj9wFrY0g"
      }
    },
    {
      "cell_type": "code",
      "execution_count": null,
      "metadata": {
        "colab": {
          "base_uri": "https://localhost:8080/",
          "height": 295
        },
        "id": "nGoYf2Js-lle",
        "outputId": "5e1d8736-9f9e-4e42-8a52-c3bbb8e0c3ba"
      },
      "outputs": [
        {
          "output_type": "display_data",
          "data": {
            "text/plain": [
              "<Figure size 432x288 with 1 Axes>"
            ],
            "image/png": "[encoded data removed]"
          },
          "metadata": {
            "needs_background": "light"
          }
        }
      ],
      "source": [
        "import matplotlib.pyplot as plt\n",
        "\n",
        "acc = history_dict['accuracy']\n",
        "val_acc = history_dict['val_accuracy']\n",
        "loss = history_dict['loss']\n",
        "val_loss = history_dict['val_loss']\n",
        "\n",
        "epochs = range(1, len(acc) + 1)\n",
        "\n",
        "# \"bo\" is for \"blue dot\"\n",
        "plt.plot(epochs, loss, 'bo', label='Training loss')\n",
        "# b is for \"solid blue line\"\n",
        "plt.plot(epochs, val_loss, 'b', label='Validation loss')\n",
        "plt.title('Training and validation loss')\n",
        "plt.xlabel('Epochs')\n",
        "plt.ylabel('Loss')\n",
        "plt.legend()\n",
        "\n",
        "plt.show()"
      ]
    },
    {
      "cell_type": "code",
      "execution_count": null,
      "metadata": {
        "colab": {
          "base_uri": "https://localhost:8080/",
          "height": 295
        },
        "id": "6hXx-xOv-llh",
        "outputId": "752e4462-0f96-48a3-9f17-a50f8a8157ab"
      },
      "outputs": [
        {
          "output_type": "display_data",
          "data": {
            "text/plain": [
              "<Figure size 432x288 with 1 Axes>"
            ],
            "image/png": "[encoded data removed]"
          },
          "metadata": {
            "needs_background": "light"
          }
        }
      ],
      "source": [
        "plt.clf()   # clear figure\n",
        "\n",
        "plt.plot(epochs, acc, 'bo', label='Training acc')\n",
        "plt.plot(epochs, val_acc, 'b', label='Validation acc')\n",
        "plt.title('Training and validation accuracy')\n",
        "plt.xlabel('Epochs')\n",
        "plt.ylabel('Accuracy')\n",
        "plt.legend(loc='lower right')\n",
        "\n",
        "plt.show()"
      ]
    }
  ],
  "metadata": {
    "colab": {
      "provenance": []
    },
    "kernelspec": {
      "display_name": "Python 3 (ipykernel)",
      "language": "python",
      "name": "python3"
    },
    "language_info": {
      "codemirror_mode": {
        "name": "ipython",
        "version": 3
      },
      "file_extension": ".py",
      "mimetype": "text/x-python",
      "name": "python",
      "nbconvert_exporter": "python",
      "pygments_lexer": "ipython3",
      "version": "3.9.7"
    }
  },
  "nbformat": 4,
  "nbformat_minor": 0
}